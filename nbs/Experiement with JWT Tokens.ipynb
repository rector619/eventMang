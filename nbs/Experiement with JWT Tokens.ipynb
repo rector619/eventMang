{
 "cells": [
  {
   "cell_type": "code",
   "execution_count": 6,
   "id": "6bf1c235",
   "metadata": {},
   "outputs": [
    {
     "name": "stdout",
     "output_type": "stream",
     "text": [
      "/Users/adesegunkoiki/Documents/myapps/Digimiapps/the-turnupspot/tus_API\n"
     ]
    }
   ],
   "source": [
    "%cd ~/Documents/myapps/Digimiapps/the-turnupspot/tus_API/"
   ]
  },
  {
   "cell_type": "code",
   "execution_count": 3,
   "id": "f71d4e4f",
   "metadata": {},
   "outputs": [
    {
     "name": "stdout",
     "output_type": "stream",
     "text": [
      "/Users/adesegunkoiki/Documents/myapps/Digimiapps/the-turnupspot/tus_API/nbs\r\n"
     ]
    }
   ],
   "source": [
    "!pwd"
   ]
  },
  {
   "cell_type": "code",
   "execution_count": 10,
   "id": "dd7daa12",
   "metadata": {},
   "outputs": [],
   "source": [
    "from database import db\n",
    "from routers.users.models import User\n",
    "from cassandra.cqlengine.management import sync_table"
   ]
  },
  {
   "cell_type": "code",
   "execution_count": 11,
   "id": "00edd265",
   "metadata": {},
   "outputs": [],
   "source": [
    "db.get_session()\n",
    "sync_table(User)"
   ]
  },
  {
   "cell_type": "code",
   "execution_count": 12,
   "id": "8ee38480",
   "metadata": {},
   "outputs": [],
   "source": [
    "import datetime\n",
    "import secrets\n",
    "from jose import jwt"
   ]
  },
  {
   "cell_type": "code",
   "execution_count": 14,
   "id": "9139e45c",
   "metadata": {},
   "outputs": [
    {
     "data": {
      "text/plain": [
       "'dYGvkK3edW_OViSsCTN8-KJiZglAEAY0YRmOFuKnrYFpkzMG5mjWwdbuyJncUpLAkgo'"
      ]
     },
     "execution_count": 14,
     "metadata": {},
     "output_type": "execute_result"
    }
   ],
   "source": [
    "#secret_key should be rotated alot in production\n",
    "secret_key = secrets.token_urlsafe(50)\n",
    "secret_key"
   ]
  },
  {
   "cell_type": "code",
   "execution_count": null,
   "id": "866be32d",
   "metadata": {},
   "outputs": [],
   "source": [
    "s"
   ]
  }
 ],
 "metadata": {
  "kernelspec": {
   "display_name": "Python 3 (ipykernel)",
   "language": "python",
   "name": "python3"
  },
  "language_info": {
   "codemirror_mode": {
    "name": "ipython",
    "version": 3
   },
   "file_extension": ".py",
   "mimetype": "text/x-python",
   "name": "python",
   "nbconvert_exporter": "python",
   "pygments_lexer": "ipython3",
   "version": "3.9.6"
  }
 },
 "nbformat": 4,
 "nbformat_minor": 5
}
