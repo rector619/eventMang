{
 "cells": [
  {
   "cell_type": "code",
   "execution_count": 1,
   "id": "02858cb6",
   "metadata": {},
   "outputs": [
    {
     "name": "stdout",
     "output_type": "stream",
     "text": [
      "/Users/adesegunkoiki/Documents/myapps/PYTHON/the-turnupspot/tus_API/nbs\r\n"
     ]
    }
   ],
   "source": [
    "!pwd"
   ]
  },
  {
   "cell_type": "code",
   "execution_count": 2,
   "id": "20084786",
   "metadata": {},
   "outputs": [
    {
     "name": "stdout",
     "output_type": "stream",
     "text": [
      "/Users/adesegunkoiki/Documents/myapps/PYTHON/the-turnupspot/tus_API\n"
     ]
    }
   ],
   "source": [
    "cd /Users/adesegunkoiki/Documents/myapps/PYTHON/the-turnupspot/tus_API/"
   ]
  },
  {
   "cell_type": "code",
   "execution_count": 3,
   "id": "2a1313a2",
   "metadata": {},
   "outputs": [],
   "source": [
    "from app import crud, models"
   ]
  },
  {
   "cell_type": "code",
   "execution_count": 4,
   "id": "ea188ce6",
   "metadata": {},
   "outputs": [
    {
     "data": {
      "text/plain": [
       "{'eventbrite_event_id': '12343423233', 'name': 'Retro Party'}"
      ]
     },
     "execution_count": 4,
     "metadata": {},
     "output_type": "execute_result"
    }
   ],
   "source": [
    "data = models.data\n",
    "data"
   ]
  },
  {
   "cell_type": "code",
   "execution_count": 5,
   "id": "f295b110",
   "metadata": {},
   "outputs": [
    {
     "data": {
      "text/plain": [
       "(Event(eventbrite_event_id='12343423233', name='Retro Party', price_str='-100'),\n",
       " EventScrapeEvent(uuid=UUID('6a78c2c2-44c8-11ed-a3ce-acde48001122'), eventbrite_event_id='12343423233', name='Retro Party', price_str='-100'))"
      ]
     },
     "execution_count": 5,
     "metadata": {},
     "output_type": "execute_result"
    }
   ],
   "source": [
    "crud.add_scrape_entry(data, fresh=True)"
   ]
  },
  {
   "cell_type": "code",
   "execution_count": 7,
   "id": "66515572",
   "metadata": {},
   "outputs": [
    {
     "data": {
      "text/plain": [
       "{'eventbrite_event_id': '12343423233', 'name': 'Retro Party'}"
      ]
     },
     "execution_count": 7,
     "metadata": {},
     "output_type": "execute_result"
    }
   ],
   "source": [
    "data"
   ]
  },
  {
   "cell_type": "code",
   "execution_count": 12,
   "id": "e5a5329b",
   "metadata": {},
   "outputs": [],
   "source": [
    "eventbrite_event_id = None\n",
    "for obj in models.Event.objects().all():\n",
    "    eventbrite_event_id = obj.eventbrite_event_id"
   ]
  },
  {
   "cell_type": "code",
   "execution_count": 15,
   "id": "69ad878d",
   "metadata": {},
   "outputs": [
    {
     "name": "stdout",
     "output_type": "stream",
     "text": [
      "Scrape event for 12343423233\n",
      "0 12343423233 2df82e22-4410-11ed-9620-acde48001122\n",
      "1 12343423233 178af4d0-4410-11ed-9620-acde48001122\n",
      "2 12343423233 2eedab54-4410-11ed-9620-acde48001122\n",
      "3 12343423233 6a78c2c2-44c8-11ed-a3ce-acde48001122\n",
      "4 12343423233 37f56e44-4410-11ed-9620-acde48001122\n",
      "5 12343423233 340fc34c-4410-11ed-9620-acde48001122\n",
      "6 12343423233 05b84980-44c7-11ed-bc84-acde48001122\n"
     ]
    }
   ],
   "source": [
    "if eventbrite_event_id is not None:\n",
    "    print(f\"Scrape event for {eventbrite_event_id}\")\n",
    "    q = models.EventScrapeEvent.objects.filter(eventbrite_event_id=eventbrite_event_id)\n",
    "    for i,obj in enumerate(q):\n",
    "        print(i, obj.eventbrite_event_id, obj.uuid)\n",
    "    \n"
   ]
  }
 ],
 "metadata": {
  "kernelspec": {
   "display_name": "Python 3 (ipykernel)",
   "language": "python",
   "name": "python3"
  },
  "language_info": {
   "codemirror_mode": {
    "name": "ipython",
    "version": 3
   },
   "file_extension": ".py",
   "mimetype": "text/x-python",
   "name": "python",
   "nbconvert_exporter": "python",
   "pygments_lexer": "ipython3",
   "version": "3.10.4"
  }
 },
 "nbformat": 4,
 "nbformat_minor": 5
}
