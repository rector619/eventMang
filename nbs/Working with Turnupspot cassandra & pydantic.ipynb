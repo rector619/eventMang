{
 "cells": [
  {
   "cell_type": "code",
   "execution_count": 1,
   "id": "02858cb6",
   "metadata": {},
   "outputs": [
    {
     "name": "stdout",
     "output_type": "stream",
     "text": [
      "/Users/adesegunkoiki/Documents/myapps/PYTHON/the-turnupspot/tus_API/nbs\r\n"
     ]
    }
   ],
   "source": [
    "!pwd"
   ]
  },
  {
   "cell_type": "code",
   "execution_count": 3,
   "id": "20084786",
   "metadata": {},
   "outputs": [
    {
     "name": "stdout",
     "output_type": "stream",
     "text": [
      "/Users/adesegunkoiki/Documents/myapps/PYTHON/the-turnupspot/tus_API\n"
     ]
    }
   ],
   "source": [
    "cd /Users/adesegunkoiki/Documents/myapps/PYTHON/the-turnupspot/tus_API/"
   ]
  },
  {
   "cell_type": "code",
   "execution_count": 10,
   "id": "2a1313a2",
   "metadata": {},
   "outputs": [],
   "source": [
    "from app import crud, models, schema"
   ]
  },
  {
   "cell_type": "code",
   "execution_count": 5,
   "id": "ea188ce6",
   "metadata": {},
   "outputs": [
    {
     "data": {
      "text/plain": [
       "{'eventbrite_event_id': '12343423233', 'name': 'Retro Party'}"
      ]
     },
     "execution_count": 5,
     "metadata": {},
     "output_type": "execute_result"
    }
   ],
   "source": [
    "data = models.data\n",
    "data"
   ]
  },
  {
   "cell_type": "code",
   "execution_count": 6,
   "id": "6898145b",
   "metadata": {},
   "outputs": [],
   "source": [
    "import uuid\n",
    "from pydantic import BaseModel"
   ]
  },
  {
   "cell_type": "code",
   "execution_count": 8,
   "id": "0d7e04dd",
   "metadata": {},
   "outputs": [],
   "source": [
    "class EventtBaseModel(BaseModel):\n",
    "    eventbrite_event_id: str\n",
    "    name: str"
   ]
  },
  {
   "cell_type": "code",
   "execution_count": 11,
   "id": "977431fe",
   "metadata": {},
   "outputs": [
    {
     "data": {
      "text/plain": [
       "{'eventbrite_event_id': '12343423233', 'name': 'Retro Party'}"
      ]
     },
     "execution_count": 11,
     "metadata": {},
     "output_type": "execute_result"
    }
   ],
   "source": [
    "event = EventtBaseModel(**data)\n",
    "event.dict()"
   ]
  },
  {
   "cell_type": "code",
   "execution_count": 13,
   "id": "bda00a64",
   "metadata": {},
   "outputs": [
    {
     "data": {
      "text/plain": [
       "(Event(eventbrite_event_id='12343423233', name='Retro Party', price_str='-100'),\n",
       " EventScrapeEvent(uuid=UUID('d55d9f8a-44d3-11ed-b4ee-acde48001122'), eventbrite_event_id='12343423233', name='Retro Party', price_str='-100'))"
      ]
     },
     "execution_count": 13,
     "metadata": {},
     "output_type": "execute_result"
    }
   ],
   "source": [
    "crud.add_scrape_entry(event.dict(), fresh=True)"
   ]
  },
  {
   "cell_type": "code",
   "execution_count": 15,
   "id": "b9ca111e",
   "metadata": {},
   "outputs": [
    {
     "ename": "ValidationError",
     "evalue": "1 validation error for EventScrapeEventSchema\nuuid\n  field required (type=value_error.missing)",
     "output_type": "error",
     "traceback": [
      "\u001b[0;31m---------------------------------------------------------------------------\u001b[0m",
      "\u001b[0;31mValidationError\u001b[0m                           Traceback (most recent call last)",
      "Cell \u001b[0;32mIn [15], line 1\u001b[0m\n\u001b[0;32m----> 1\u001b[0m schema\u001b[38;5;241m.\u001b[39mEventScrapeEventSchema(\u001b[38;5;241m*\u001b[39m\u001b[38;5;241m*\u001b[39mdata)\n",
      "File \u001b[0;32m~/Documents/myapps/PYTHON/the-turnupspot/tus_API/lib/python3.10/site-packages/pydantic/main.py:342\u001b[0m, in \u001b[0;36mpydantic.main.BaseModel.__init__\u001b[0;34m()\u001b[0m\n",
      "\u001b[0;31mValidationError\u001b[0m: 1 validation error for EventScrapeEventSchema\nuuid\n  field required (type=value_error.missing)"
     ]
    }
   ],
   "source": [
    "schema.EventScrapeEventSchema(**data)"
   ]
  },
  {
   "cell_type": "code",
   "execution_count": 16,
   "id": "ef207768",
   "metadata": {},
   "outputs": [
    {
     "name": "stdout",
     "output_type": "stream",
     "text": [
      "[\n",
      "  {\n",
      "    \"loc\": [\n",
      "      \"uuid\"\n",
      "    ],\n",
      "    \"msg\": \"field required\",\n",
      "    \"type\": \"value_error.missing\"\n",
      "  }\n",
      "]\n"
     ]
    }
   ],
   "source": [
    "from pydantic import ValidationError\n",
    "\n",
    "data = dict(data)\n",
    "data['uuid'] = uuid.uuid1()\n",
    "try:\n",
    "    schema.EventScrapeEventSchema(**data)\n",
    "except ValidationError as e:\n",
    "    print(e.json())"
   ]
  }
 ],
 "metadata": {
  "kernelspec": {
   "display_name": "Python 3 (ipykernel)",
   "language": "python",
   "name": "python3"
  },
  "language_info": {
   "codemirror_mode": {
    "name": "ipython",
    "version": 3
   },
   "file_extension": ".py",
   "mimetype": "text/x-python",
   "name": "python",
   "nbconvert_exporter": "python",
   "pygments_lexer": "ipython3",
   "version": "3.9.6"
  }
 },
 "nbformat": 4,
 "nbformat_minor": 5
}
